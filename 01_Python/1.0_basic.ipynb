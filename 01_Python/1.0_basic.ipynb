{
 "cells": [
  {
   "cell_type": "code",
   "execution_count": 3,
   "id": "eadc6e6d",
   "metadata": {},
   "outputs": [
    {
     "name": "stdout",
     "output_type": "stream",
     "text": [
      "ayush\n",
      "Ishan\n"
     ]
    }
   ],
   "source": [
    "##Basic Syntax Rules in python\n",
    "## case sensitivity-python is case sensitive\n",
    "name=\"ayush\"\n",
    "Name=\"Ishan\"\n",
    "print(name)\n",
    "print(Name)"
   ]
  },
  {
   "cell_type": "markdown",
   "id": "385f288c",
   "metadata": {},
   "source": [
    "\n",
    "✅ 1. Why Indentation Matters\n",
    "Python uses indentation to define blocks of code (instead of {} like in C/C++).\n",
    "\n",
    "Missing or incorrect indentation will result in a IndentationError.\n",
    "\n",
    "✅ 2. Standard Rules\n",
    "Use 4 spaces per indentation level.\n",
    "\n",
    "Do not use tabs (or mix tabs and spaces).\n",
    "\n",
    "Most editors (like VS Code) can auto-convert tabs to 4 spaces.\n",
    "\n"
   ]
  },
  {
   "cell_type": "code",
   "execution_count": null,
   "id": "1d01c101",
   "metadata": {},
   "outputs": [
    {
     "name": "stdout",
     "output_type": "stream",
     "text": [
      "32\n"
     ]
    }
   ],
   "source": [
    "\n",
    "age=32\n",
    "if age>30:\n",
    "    print(age)"
   ]
  },
  {
   "cell_type": "code",
   "execution_count": 5,
   "id": "5f6faf24",
   "metadata": {},
   "outputs": [
    {
     "name": "stdout",
     "output_type": "stream",
     "text": [
      "Hello world\n"
     ]
    }
   ],
   "source": [
    "## This is single line comment\n",
    "print(\"Hello world\")"
   ]
  },
  {
   "cell_type": "code",
   "execution_count": null,
   "id": "1c72bc4b",
   "metadata": {},
   "outputs": [
    {
     "name": "stdout",
     "output_type": "stream",
     "text": [
      "30\n"
     ]
    }
   ],
   "source": [
    "## Line continuation \n",
    "## Back slash for for continuation to next line\n",
    "total = 1+2+3+4+5+\\\n",
    "4+5+6\n",
    "print(total)"
   ]
  },
  {
   "cell_type": "code",
   "execution_count": 1,
   "id": "f040e509",
   "metadata": {},
   "outputs": [
    {
     "name": "stdout",
     "output_type": "stream",
     "text": [
      "12\n"
     ]
    }
   ],
   "source": [
    "# Multiple statement on a single line\n",
    "x=5;y=7;z=x+y;\n",
    "print(z)"
   ]
  },
  {
   "cell_type": "code",
   "execution_count": 13,
   "id": "4f8694b8",
   "metadata": {},
   "outputs": [
    {
     "name": "stdout",
     "output_type": "stream",
     "text": [
      "<class 'int'>\n",
      "<class 'str'>\n"
     ]
    }
   ],
   "source": [
    "# Understanding semantics in Python\n",
    "# variabl assigment\n",
    "age =43\n",
    "name =\"Ayush\"\n",
    "print(type(age))\n",
    "print(type(name))"
   ]
  },
  {
   "cell_type": "markdown",
   "id": "57bfbd53",
   "metadata": {},
   "source": [
    "Type Inference\n",
    "\n",
    "🧠 How It Works:\n",
    "The language looks at the value assigned to a variable and infers its data type.\n",
    "\n",
    "Helps make code shorter, cleaner, and easier to write.\n",
    "\n",
    "🛠 Languages with Type Inference:\n",
    "Dynamically typed (like Python, JavaScript): inference happens at runtime.\n",
    "\n",
    "Statically typed with inference (like TypeScript, Kotlin, Swift, Rust, Scala): inference happens at compile time.\n",
    "\n"
   ]
  },
  {
   "cell_type": "markdown",
   "id": "48031f1f",
   "metadata": {},
   "source": []
  },
  {
   "cell_type": "code",
   "execution_count": 14,
   "id": "efa7be60",
   "metadata": {},
   "outputs": [
    {
     "name": "stdout",
     "output_type": "stream",
     "text": [
      "<class 'int'>\n",
      "<class 'str'>\n"
     ]
    }
   ],
   "source": [
    "variable=89\n",
    "print(type(variable))\n",
    "variable=\"name\"\n",
    "print(type(variable))\n"
   ]
  },
  {
   "cell_type": "code",
   "execution_count": 15,
   "id": "4a0478be",
   "metadata": {},
   "outputs": [
    {
     "ename": "NameError",
     "evalue": "name 'b' is not defined",
     "output_type": "error",
     "traceback": [
      "\u001b[1;31m---------------------------------------------------------------------------\u001b[0m",
      "\u001b[1;31mNameError\u001b[0m                                 Traceback (most recent call last)",
      "Cell \u001b[1;32mIn[15], line 2\u001b[0m\n\u001b[0;32m      1\u001b[0m \u001b[38;5;66;03m# Name Error\u001b[39;00m\n\u001b[1;32m----> 2\u001b[0m a\u001b[38;5;241m=\u001b[39m\u001b[43mb\u001b[49m\n",
      "\u001b[1;31mNameError\u001b[0m: name 'b' is not defined"
     ]
    }
   ],
   "source": [
    "# Name Error\n",
    "a=b"
   ]
  },
  {
   "cell_type": "code",
   "execution_count": 17,
   "id": "767a8278",
   "metadata": {},
   "outputs": [
    {
     "name": "stdout",
     "output_type": "stream",
     "text": [
      "Correct indentation\n",
      "This will print\n",
      "Outside the if block \n"
     ]
    }
   ],
   "source": [
    "## Code example of identation\n",
    "if True:\n",
    "    print(\"Correct indentation\")\n",
    "    if False:\n",
    "        print(\"This one print\")\n",
    "    print(\"This will print\")\n",
    "print(\"Outside the if block \")"
   ]
  },
  {
   "cell_type": "code",
   "execution_count": null,
   "id": "296feace",
   "metadata": {},
   "outputs": [],
   "source": []
  }
 ],
 "metadata": {
  "kernelspec": {
   "display_name": "Python 3",
   "language": "python",
   "name": "python3"
  },
  "language_info": {
   "codemirror_mode": {
    "name": "ipython",
    "version": 3
   },
   "file_extension": ".py",
   "mimetype": "text/x-python",
   "name": "python",
   "nbconvert_exporter": "python",
   "pygments_lexer": "ipython3",
   "version": "3.10.18"
  }
 },
 "nbformat": 4,
 "nbformat_minor": 5
}
