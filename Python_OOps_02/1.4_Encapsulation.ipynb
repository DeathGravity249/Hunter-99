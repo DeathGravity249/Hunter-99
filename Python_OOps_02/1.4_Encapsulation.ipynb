{
 "cells": [
  {
   "cell_type": "code",
   "execution_count": 2,
   "id": "20554545",
   "metadata": {},
   "outputs": [
    {
     "data": {
      "text/plain": [
       "'Ayush'"
      ]
     },
     "execution_count": 2,
     "metadata": {},
     "output_type": "execute_result"
    }
   ],
   "source": [
    " ## Encapsulation with getter adn setter methods\n",
    "## Public ,protected ,private variable\n",
    "class person:\n",
    "    def __init__(self,name ,age):\n",
    "        self.name=name\n",
    "        self.age=age ## public variable\n",
    "\n",
    "\n",
    "def get_name(person_1): ## Here we are able to access outside the class\n",
    "    \n",
    "    return person_1.name\n",
    "\n",
    "person_1=person(\"Ayush\",32)\n",
    "get_name(person_1)\n",
    "\n"
   ]
  },
  {
   "cell_type": "code",
   "execution_count": null,
   "id": "fa974162",
   "metadata": {},
   "outputs": [
    {
     "data": {
      "text/plain": [
       "32"
      ]
     },
     "execution_count": 9,
     "metadata": {},
     "output_type": "execute_result"
    }
   ],
   "source": [
    " ## Encapsulation with getter adn setter methods\n",
    "## Public ,protected ,private variable\n",
    "class person:\n",
    "    def __init__(self,name ,age,gender):\n",
    "        self.__name=name\n",
    "        self.__age=age ## both are private variable -> double underscore\n",
    "        self.gender=gender\n",
    "def get_name(person_1):\n",
    "    return person_1._person__age ## this way you can access it \n",
    "    ## using person_1.name ->fetch no data \n",
    "person_1=person(\"Ayush\",32,\"male\")\n",
    "get_name(person_1)\n"
   ]
  },
  {
   "cell_type": "code",
   "execution_count": 11,
   "id": "f7f5bbfa",
   "metadata": {},
   "outputs": [
    {
     "name": "stdout",
     "output_type": "stream",
     "text": [
      "Lovi\n"
     ]
    }
   ],
   "source": [
    "## Private variable cannont be accessed outside the class \n",
    "## protected variable\n",
    "class person:\n",
    "    def __init__(self,name ,age,gender):\n",
    "        self._name=name # using single underscore\n",
    "        #variable for protectecd\n",
    "        self._age=age \n",
    "        self.gender=gender\n",
    "\n",
    "class employee(person):\n",
    "    def __init__(self,name, age, gender):\n",
    "        super().__init__(name,age,gender)\n",
    "\n",
    "employe=employee(\"Lovi\",20,\"Female\")\n",
    "print(employe._name)"
   ]
  },
  {
   "cell_type": "code",
   "execution_count": 23,
   "id": "9fc56ae3",
   "metadata": {},
   "outputs": [
    {
     "name": "stdout",
     "output_type": "stream",
     "text": [
      "Madhavi\n",
      "21\n",
      "35\n",
      "Age cannot be negative\n"
     ]
    }
   ],
   "source": [
    "## Encapsulation with getter and setter ss person:\n",
    "class person:\n",
    "    def __init__(self,name,age):\n",
    "        self.__name=name\n",
    "        self.__age=age\n",
    "    ## gettter method for name\n",
    "    def get_name(self):\n",
    "        return self.__name\n",
    "\n",
    "    ## settt def set_name(self,name):\n",
    "    def set_name(self ,name):\n",
    "         self.__name=name\n",
    "\n",
    "    ## getter method to get name\n",
    "    def get_age(self):\n",
    "        return self.__age\n",
    "    \n",
    "    ## setter method for age\n",
    "    def set_age(self,age):\n",
    "        if age>0:\n",
    "           self.__age=age\n",
    "        else:\n",
    "            print(\"Age cannot be negative\")\n",
    "persona=person(\"Madhavi\",21)\n",
    "\n",
    "## access and modify private variable using getter and setter\n",
    "\n",
    "print(persona.get_name())\n",
    "print(persona.get_age())\n",
    "\n",
    "persona.set_age(35)\n",
    "print(persona.get_age())\n",
    "\n",
    "persona.set_age(-5)"
   ]
  },
  {
   "cell_type": "code",
   "execution_count": null,
   "id": "b7d7aeec",
   "metadata": {},
   "outputs": [],
   "source": []
  },
  {
   "cell_type": "code",
   "execution_count": null,
   "id": "6372f846",
   "metadata": {},
   "outputs": [],
   "source": []
  }
 ],
 "metadata": {
  "kernelspec": {
   "display_name": "base",
   "language": "python",
   "name": "python3"
  },
  "language_info": {
   "codemirror_mode": {
    "name": "ipython",
    "version": 3
   },
   "file_extension": ".py",
   "mimetype": "text/x-python",
   "name": "python",
   "nbconvert_exporter": "python",
   "pygments_lexer": "ipython3",
   "version": "3.13.5"
  }
 },
 "nbformat": 4,
 "nbformat_minor": 5
}
