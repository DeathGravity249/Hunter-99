{
 "cells": [
  {
   "cell_type": "code",
   "execution_count": 3,
   "id": "1b44b232",
   "metadata": {},
   "outputs": [
    {
     "name": "stdout",
     "output_type": "stream",
     "text": [
      "Dont forgt to pay utility bill\n",
      "To do list remaining\n",
      "-buy cycle\n",
      "-Pay the bill\n",
      "-Go for a run\n",
      "-Schedule meeting \n"
     ]
    }
   ],
   "source": [
    "to_do_list=[\"buy cycle\",\"clean the house\",\"Pay the bill\"]\n",
    "## Adding the task\n",
    "to_do_list.append(\"Go for a run\")\n",
    "to_do_list.append(\"Schedule meeting \")\n",
    "\n",
    "## Removing a completed task\n",
    "to_do_list.remove(\"clean the house\")\n",
    "\n",
    "## checking if a task is in the list\n",
    "if \"Pay the bill\" in to_do_list:\n",
    "    print(\"Dont forgt to pay utility bill\")\n",
    "print(\"To do list remaining\")\n",
    "for task in to_do_list:\n",
    "    print(f\"-{task}\")\n",
    "\n",
    "\n"
   ]
  },
  {
   "cell_type": "code",
   "execution_count": 2,
   "id": "6e13d772",
   "metadata": {},
   "outputs": [
    {
     "name": "stdout",
     "output_type": "stream",
     "text": [
      "Average grades: 72.33333333333333\n",
      "Highest grade : 99\n",
      "Lowest grades : 43\n"
     ]
    }
   ],
   "source": [
    "## Creating a list to store and calculate average grade for students\n",
    "grades=[99,87,54,87,43]\n",
    "## To append\n",
    "grades.append(64)\n",
    "## Caclulating the average grades\n",
    "average_grades=sum(grades)/len(grades)\n",
    "print(f\"Average grades: {average_grades}\")\n",
    "## Finding the highest and lowest grade\n",
    "highest_grade=max(grades)\n",
    "lowest_grades=min(grades)\n",
    "\n",
    "## Printing the highest grade and lowest grade\n",
    "print(f\"Highest grade : { highest_grade}\")\n",
    "print(f\"Lowest grades : {lowest_grades}\")"
   ]
  },
  {
   "cell_type": "code",
   "execution_count": 7,
   "id": "ad8f939f",
   "metadata": {},
   "outputs": [
    {
     "name": "stdout",
     "output_type": "stream",
     "text": [
      "['Apple', 'Bannana', 'Orange', 'litchi', 'guava', 'grapes']\n",
      "dragon fruit is not present in inventory\n",
      "['Apple', 'Bannana', 'Orange', 'litchi', 'guava', 'grapes']\n"
     ]
    }
   ],
   "source": [
    "## creating the Inventory\n",
    "Inventory=[\"Apple\",\"Bannana\",\"Orange\",\"litchi\",\"guava\"]\n",
    "Inventory.append(\"grapes\")\n",
    "print(Inventory)\n",
    "## checking the item is out of stock\n",
    "item=\"dragon fruit\"\n",
    "if item in Inventory:\n",
    "    print(f\"{item}item is present \")\n",
    "else:\n",
    "    print(f\"{item} is not present in inventory\")\n",
    "print(Inventory)"
   ]
  },
  {
   "cell_type": "code",
   "execution_count": 16,
   "id": "814a827c",
   "metadata": {},
   "outputs": [
    {
     "name": "stdout",
     "output_type": "stream",
     "text": [
      "Positive feedback count: 2\n",
      "user Feedback : \n",
      "-Great Service\n",
      "-Very satisfied\n",
      "-Could be better\n",
      "-Excellent experience\n",
      "-Not happy with the service\n"
     ]
    }
   ],
   "source": [
    "## Collecting the user feedback\n",
    "feedback=[\"Great Service\",\"Very satisfied\",\"Could be better\",\"Excellent experience\"]\n",
    "## Adding new feedback\n",
    "feedback.append(\"Not happy with the service\")\n",
    "## counting specific feedback\n",
    "Positive_feedback_count=sum(1 for comment in feedback if \"great\" in comment.lower() or \"excellent\" in comment.lower())\n",
    "print(f\"Positive feedback count: {Positive_feedback_count}\")\n",
    "# Printing all feedback\n",
    "print(\"user Feedback : \")\n",
    "for comment in feedback:\n",
    "    print(f\"-{comment}\")"
   ]
  },
  {
   "cell_type": "code",
   "execution_count": null,
   "id": "210a6be4",
   "metadata": {},
   "outputs": [],
   "source": []
  }
 ],
 "metadata": {
  "kernelspec": {
   "display_name": "base",
   "language": "python",
   "name": "python3"
  },
  "language_info": {
   "codemirror_mode": {
    "name": "ipython",
    "version": 3
   },
   "file_extension": ".py",
   "mimetype": "text/x-python",
   "name": "python",
   "nbconvert_exporter": "python",
   "pygments_lexer": "ipython3",
   "version": "3.13.5"
  }
 },
 "nbformat": 4,
 "nbformat_minor": 5
}
