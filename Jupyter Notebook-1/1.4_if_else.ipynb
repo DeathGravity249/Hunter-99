{
 "cells": [
  {
   "cell_type": "code",
   "execution_count": 1,
   "id": "93e6afa1",
   "metadata": {},
   "outputs": [
    {
     "name": "stdout",
     "output_type": "stream",
     "text": [
      "You are allowed to vote in the election\n"
     ]
    }
   ],
   "source": [
    "age=20\n",
    "if age>=18:\n",
    "    print(\"You are allowed to vote in the election\")\n",
    "    "
   ]
  },
  {
   "cell_type": "code",
   "execution_count": 2,
   "id": "0699cc58",
   "metadata": {},
   "outputs": [
    {
     "data": {
      "text/plain": [
       "True"
      ]
     },
     "execution_count": 2,
     "metadata": {},
     "output_type": "execute_result"
    }
   ],
   "source": [
    "age>=18"
   ]
  },
  {
   "cell_type": "code",
   "execution_count": 3,
   "id": "55949172",
   "metadata": {},
   "outputs": [
    {
     "name": "stdout",
     "output_type": "stream",
     "text": [
      "You are minor \n"
     ]
    }
   ],
   "source": [
    "age=16\n",
    "if age>=18:\n",
    "    print(\"You are eligible for voting \")\n",
    "else :\n",
    "    print(\"You are minor \")\n",
    "    "
   ]
  },
  {
   "cell_type": "code",
   "execution_count": 5,
   "id": "ef75fdea",
   "metadata": {},
   "outputs": [
    {
     "name": "stdout",
     "output_type": "stream",
     "text": [
      "The number is positive \n",
      "The number is odd\n"
     ]
    }
   ],
   "source": [
    "# Nested conditional statements\n",
    "num = int(input(\"Enter the number \"))\n",
    "if num>=0:\n",
    "    print(\"The number is positive \")\n",
    "    if num%2==0:\n",
    "        print(\"The number is even\")\n",
    "    else:\n",
    "        print(\"The number is odd\")\n",
    "else:\n",
    "    print(\"The number is negative\")\n"
   ]
  },
  {
   "cell_type": "code",
   "execution_count": 4,
   "id": "e0e6f41f",
   "metadata": {},
   "outputs": [
    {
     "name": "stdout",
     "output_type": "stream",
     "text": [
      "2000 is a leap year \n"
     ]
    }
   ],
   "source": [
    "# To print the leap year\n",
    "year=int(input(\"Enter the year you want to check\"))\n",
    "if year%4==0:\n",
    "    if year%100==0:\n",
    "        if (year%400==0):\n",
    "            print(year,\"is a leap year \")\n",
    "        else:\n",
    "            print(\"This year is not leap year \")\n",
    "    else:\n",
    "        print(\"This year is not leap year \")\n",
    "else:\n",
    "    print(\"This year is not leap year \")"
   ]
  },
  {
   "cell_type": "code",
   "execution_count": 9,
   "id": "f2c4a25c",
   "metadata": {},
   "outputs": [
    {
     "name": "stdout",
     "output_type": "stream",
     "text": [
      "Result:  13.0\n"
     ]
    }
   ],
   "source": [
    "# Creating calculator\n",
    "x=float(input(\"Enter the 1st number : \"))\n",
    "y=float(input(\"Enter the second number : \"))\n",
    "operation =input(\"Enter the operation ( +,-,/,%,*) : \")\n",
    "\n",
    "if operation=='+':\n",
    "    result = x+y\n",
    "elif operation == '-':\n",
    "    result = x-y\n",
    "elif operation == '%':\n",
    "    result = x%y\n",
    "elif operation == '*':\n",
    "   result = x*y\n",
    "elif operation =='/':\n",
    "    if y!=0:\n",
    "        result = x/y\n",
    "    else:\n",
    "        result = \"Error ! , Division by Zero\"\n",
    "else: \n",
    "     \"Invalid operation \"\n",
    "\n",
    "print(\"Result: \",result)\n"
   ]
  },
  {
   "cell_type": "code",
   "execution_count": null,
   "id": "49df79b2",
   "metadata": {},
   "outputs": [],
   "source": []
  }
 ],
 "metadata": {
  "kernelspec": {
   "display_name": "virtual_env (3.10.18)",
   "language": "python",
   "name": "python3"
  },
  "language_info": {
   "codemirror_mode": {
    "name": "ipython",
    "version": 3
   },
   "file_extension": ".py",
   "mimetype": "text/x-python",
   "name": "python",
   "nbconvert_exporter": "python",
   "pygments_lexer": "ipython3",
   "version": "3.10.18"
  }
 },
 "nbformat": 4,
 "nbformat_minor": 5
}
