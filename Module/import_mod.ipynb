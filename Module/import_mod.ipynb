{
 "cells": [
  {
   "cell_type": "markdown",
   "id": "0b9bdb1b",
   "metadata": {},
   "source": [
    "## To create Your own custom module \n",
    "step 1 : There is a   parent foldeder contaning custom\n",
    "        custom module and where you are calling \n",
    "step 2 : custom module need to have __init__.py"
   ]
  },
  {
   "cell_type": "code",
   "execution_count": 9,
   "id": "330882d5",
   "metadata": {},
   "outputs": [
    {
     "data": {
      "text/plain": [
       "10"
      ]
     },
     "execution_count": 9,
     "metadata": {},
     "output_type": "execute_result"
    }
   ],
   "source": [
    "from Package.maths import addition\n",
    "addition(7,3)"
   ]
  },
  {
   "cell_type": "markdown",
   "id": "9972ba74",
   "metadata": {},
   "source": [
    "Here we are creating the package iside module and then calling inside module \n"
   ]
  },
  {
   "cell_type": "code",
   "execution_count": null,
   "id": "7222756d",
   "metadata": {},
   "outputs": [
    {
     "name": "stdout",
     "output_type": "stream",
     "text": [
      "0.3333333333333333\n"
     ]
    }
   ],
   "source": [
    "from Package.maths import division \n",
    "# print(substraction(5,2))\n",
    "print(division(2,6))"
   ]
  },
  {
   "cell_type": "markdown",
   "id": "76b8b634",
   "metadata": {},
   "source": [
    "Here we are going to call a subpackage that has been made inside the package and we are going to call it\n"
   ]
  },
  {
   "cell_type": "code",
   "execution_count": 3,
   "id": "00c9b959",
   "metadata": {},
   "outputs": [
    {
     "data": {
      "text/plain": [
       "625"
      ]
     },
     "execution_count": 3,
     "metadata": {},
     "output_type": "execute_result"
    }
   ],
   "source": [
    "from Package.subpackage.Lv_2_maths import *\n",
    "multiplication(25,25)"
   ]
  },
  {
   "cell_type": "code",
   "execution_count": null,
   "id": "676fe9bb",
   "metadata": {},
   "outputs": [],
   "source": []
  }
 ],
 "metadata": {
  "kernelspec": {
   "display_name": "base",
   "language": "python",
   "name": "python3"
  },
  "language_info": {
   "codemirror_mode": {
    "name": "ipython",
    "version": 3
   },
   "file_extension": ".py",
   "mimetype": "text/x-python",
   "name": "python",
   "nbconvert_exporter": "python",
   "pygments_lexer": "ipython3",
   "version": "3.13.5"
  }
 },
 "nbformat": 4,
 "nbformat_minor": 5
}
